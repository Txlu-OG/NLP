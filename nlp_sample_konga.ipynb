{
 "cells": [
  {
   "cell_type": "code",
   "execution_count": 1,
   "id": "929e8131",
   "metadata": {},
   "outputs": [
    {
     "name": "stdout",
     "output_type": "stream",
     "text": [
      "Scraping category: Fashion\n"
     ]
    }
   ],
   "source": [
    "import requests\n",
    "from bs4 import BeautifulSoup\n",
    "import pandas as pd\n",
    "from selenium import webdriver\n",
    "from selenium.webdriver.common.by import By\n",
    "from selenium.webdriver.chrome.service import Service\n",
    "from webdriver_manager.chrome import ChromeDriverManager\n",
    "import time\n",
    "\n",
    "# Initialize Selenium WebDriver\n",
    "driver = webdriver.Chrome(service=Service(ChromeDriverManager().install()))\n",
    "\n",
    "# Function to extract product links from a category page\n",
    "def get_product_links(category_url, num_pages):\n",
    "    product_links = []\n",
    "    for page in range(1, num_pages + 1):\n",
    "        try:\n",
    "            driver.get(f\"{category_url}?page={page}\")\n",
    "            time.sleep(5)  # Wait for the page to load\n",
    "            soup = BeautifulSoup(driver.page_source, 'html.parser')\n",
    "            \n",
    "            # Update the selector to match Konga's HTML structure for product links\n",
    "            for link in soup.select('div._7e903_3FsI6 a'):\n",
    "                product_links.append('https://www.konga.com' + link['href'])\n",
    "        except Exception as e:\n",
    "            print(f\"Error on page {page} of {category_url}: {e}\")\n",
    "            continue\n",
    "    \n",
    "    return product_links\n",
    "\n",
    "# Function to extract reviews and ratings from a product page\n",
    "def get_reviews(product_url):\n",
    "    reviews = []\n",
    "    try:\n",
    "        driver.get(product_url)\n",
    "        time.sleep(5)\n",
    "        soup = BeautifulSoup(driver.page_source, 'html.parser')\n",
    "        \n",
    "        # Update the selector to match Konga's HTML structure for reviews\n",
    "        review_elements = soup.select('div.cfc8e_RM54f > div')\n",
    "        for element in review_elements:\n",
    "            review_text = element.select_one('p.a397c_2uBaY').get_text(strip=True)\n",
    "            # Count filled stars\n",
    "            filled_stars = len(element.select('svg.ba6f2_18Jb4[fill=\"#DBDBDB\"]'))\n",
    "            reviews.append({'product_url': product_url, 'review_text': review_text, 'rating': filled_stars})\n",
    "    \n",
    "    except Exception as e:\n",
    "        print(f\"Error extracting reviews from {product_url}: {e}\")\n",
    "    \n",
    "    return reviews\n",
    "\n",
    "# Main function to scrape reviews from a single category\n",
    "def scrape_konga_fashion_reviews():\n",
    "    category_url = 'https://www.konga.com/category/konga-fashion-1259'\n",
    "    num_pages = 1  # For a small test, scrape only the first 2 pages\n",
    "    all_reviews = []\n",
    "\n",
    "    print(f\"Scraping category: Fashion\")\n",
    "    product_links = get_product_links(category_url, num_pages)\n",
    "    \n",
    "    for product_url in product_links:\n",
    "        reviews = get_reviews(product_url)\n",
    "        for review in reviews:\n",
    "            review['category'] = 'Fashion'  # Add category to each review\n",
    "        all_reviews.extend(reviews)\n",
    "        \n",
    "        # Save progress periodically\n",
    "        if len(all_reviews) >= 10:  # Adjusted for a small test\n",
    "            df = pd.DataFrame(all_reviews)\n",
    "            df.to_csv('konga_fashion_reviews.csv', mode='a', header=False, index=False)\n",
    "            all_reviews = []  # Reset the list to save memory\n",
    "\n",
    "    # Save any remaining reviews\n",
    "    if all_reviews:\n",
    "        df = pd.DataFrame(all_reviews)\n",
    "        df.to_csv('konga_fashion_reviews.csv', mode='a', header=False, index=False)\n",
    "\n",
    "    # Close the driver\n",
    "    driver.quit()\n",
    "\n",
    "# Run the scraping process for the Fashion category\n",
    "scrape_konga_fashion_reviews()\n"
   ]
  },
  {
   "cell_type": "code",
   "execution_count": 3,
   "id": "633d90bf",
   "metadata": {},
   "outputs": [
    {
     "ename": "NameError",
     "evalue": "name 'nlp_sample_konga' is not defined",
     "output_type": "error",
     "traceback": [
      "\u001b[0;31m---------------------------------------------------------------------------\u001b[0m",
      "\u001b[0;31mNameError\u001b[0m                                 Traceback (most recent call last)",
      "Cell \u001b[0;32mIn[3], line 1\u001b[0m\n\u001b[0;32m----> 1\u001b[0m nlp_sample_konga\u001b[38;5;241m.\u001b[39mipynb\n",
      "\u001b[0;31mNameError\u001b[0m: name 'nlp_sample_konga' is not defined"
     ]
    }
   ],
   "source": [
    "nlp_sample_konga.ipynb"
   ]
  },
  {
   "cell_type": "code",
   "execution_count": null,
   "id": "2a973046",
   "metadata": {},
   "outputs": [],
   "source": []
  }
 ],
 "metadata": {
  "kernelspec": {
   "display_name": "Python 3 (ipykernel)",
   "language": "python",
   "name": "python3"
  },
  "language_info": {
   "codemirror_mode": {
    "name": "ipython",
    "version": 3
   },
   "file_extension": ".py",
   "mimetype": "text/x-python",
   "name": "python",
   "nbconvert_exporter": "python",
   "pygments_lexer": "ipython3",
   "version": "3.11.4"
  }
 },
 "nbformat": 4,
 "nbformat_minor": 5
}
